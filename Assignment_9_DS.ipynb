{
 "cells": [
  {
   "cell_type": "markdown",
   "id": "deda59db",
   "metadata": {},
   "source": [
    "# Assignment 9 solution"
   ]
  },
  {
   "cell_type": "raw",
   "id": "3319778d",
   "metadata": {},
   "source": [
    "Q.1. To what does a relative path refer?\n",
    "\n",
    "Ans: A relative path refers to a file or directory location in relation to the current working        directory, rather than the root directory or a fixed location on the file system. It is used      to specify the location of a file or directory relative to the current location, rather than      an absolute path which specifies the location from the root directory.\n",
    "\n",
    "     For example, if the current working directory is \"C:\\Users\\username\\Documents\" and you want      to access a file called \"example.txt\" that is located in a subdirectory called                    \"example_folder\", the relative path to that file would be \"example_folder\\example.txt\". This      is because the file is located in a subdirectory of the current working directory.\n",
    "\n",
    "     Alternatively, an absolute path for the same file would be                                        \"C:\\Users\\username\\Documents\\example_folder\\example.txt\" specifying the location of the file      from the root directory."
   ]
  },
  {
   "cell_type": "raw",
   "id": "8d6c93a6",
   "metadata": {},
   "source": [
    "Q.2. What does an absolute path start with your operating system?\n",
    "\n",
    "Ans: An absolute path starts with the root directory of the file system on the specific operating      system.\n",
    "\n",
    "     On Windows-based systems, the root directory is represented by the drive letter followed by      a colon (e.g. C:), and the path separator is a backslash (). So an absolute path on Windows      might look like \"C:\\Users\\username\\Documents\\example_folder\\example.txt\"\n",
    "\n",
    "     On Unix-based systems, including Linux and macOS, the root directory is represented by a          single forward slash (/), and the path separator is also a forward slash. So an absolute          path on Unix-based systems might look like                                                        \"/home/username/documents/example_folder/example.txt\""
   ]
  },
  {
   "cell_type": "raw",
   "id": "ee517d6d",
   "metadata": {},
   "source": [
    "Q.3. What do the functions os.getcwd() and os.chdir() do?\n",
    "\n",
    "Ans: 'os.getcwd()'' returns a string representing the current working directory (i.e. the              directory in which the Python script is running).\n",
    "\n",
    "     'os.chdir(path)' changes the current working directory to the given path. This means that        file and directory operations will be performed relative to the new directory, rather than        the previous one.\n",
    "\n"
   ]
  },
  {
   "cell_type": "code",
   "execution_count": 5,
   "id": "926330de",
   "metadata": {},
   "outputs": [
    {
     "name": "stdout",
     "output_type": "stream",
     "text": [
      "C:\\Users\\PAPPUSHARMA\\Documents\n",
      "C:\\Users\\PAPPUSHARMA\\Documents\n"
     ]
    }
   ],
   "source": [
    "#for example\n",
    "import os\n",
    "print(os.getcwd()) # Prints the current Working Directory\n",
    "path = r'C:\\Users\\PAPPUSHARMA\\Documents'\n",
    "os.chdir(path)\n",
    "print(os.getcwd())"
   ]
  },
  {
   "cell_type": "raw",
   "id": "4f60180a",
   "metadata": {},
   "source": [
    "Q.4. What are the . and .. folders?\n",
    "\n",
    "Ans: In a file system, . and .. are special folder names that refer to the current directory and      the parent directory, respectively.\n",
    "\n",
    "     '.' (dot) refers to the current directory. For example, if the current working directory is      /home/username/documents, then ./example_folder refers to the example_folder directory            within the /home/username/documents directory.\n",
    "\n",
    "     '..' (dot dot) refers to the parent directory. For example, if the current working directory      is /home/username/documents, then ../example_folder refers to the example_folder directory        that is located one level above the /home/username/documents directory in the file system        hierarchy.\n",
    "\n",
    "     Both of these special folders can be used in both relative and absolute paths.\n",
    "\n",
    "     It is important to note that on Windows, these special folders are sometimes also called          \"hidden folders\", and they are hidden by default in the file explorer, but they can be            accessed using command prompt or by changing the settings in the file explorer to show            hidden files and folders.\n",
    "\n",
    "\n"
   ]
  },
  {
   "cell_type": "raw",
   "id": "acffd877",
   "metadata": {},
   "source": [
    "Q.5. In C:\\bacon\\eggs\\spam.txt, which part is the dir name, and which part is the base name?\n",
    "    \n",
    "Ans: In the file path \"C:\\bacon\\eggs\\spam.txt\",\n",
    "\n",
    "     \"C:\\bacon\\eggs\" is the directory name. It's the path of the directory containing the file.\n",
    "     \n",
    "     \"spam.txt\" is the base name. It's the name of the file.\n",
    "     \n",
    "     It's important to note that on Windows, the \"\" character is used as a path separator, while      on other operating systems such as Linux and macOS the \"/\" character is used."
   ]
  },
  {
   "cell_type": "code",
   "execution_count": 6,
   "id": "a2637e45",
   "metadata": {},
   "outputs": [
    {
     "name": "stdout",
     "output_type": "stream",
     "text": [
      "C:\\bacon\\eggs\n",
      "spam.txt\n"
     ]
    }
   ],
   "source": [
    "import os\n",
    "path = r'C:\\bacon\\eggs\\spam.txt'\n",
    "print(os.path.dirname(path))\n",
    "print(os.path.basename(path))"
   ]
  },
  {
   "cell_type": "raw",
   "id": "6d9c5f31",
   "metadata": {},
   "source": [
    "Q.6. What are the three “mode” arguments that can be passed to the open() function?\n",
    "\n",
    "Ans: The 'open()' function in Python takes a mandatory argument, which is the file name, and an        optional mode argument which defaults to 'r' (reading mode) if not provided. The mode            argument specifies the mode in which the file is opened. There are three main mode arguments      that can be passed to the 'open()' function:\n",
    "\n",
    "    1. 'r' : Reading mode, which is the default mode. This mode is used to read the contents of a        file. The file pointer is placed at the beginning of the file. If the file does not exist,        it raises a 'FileNotFoundError'.\n",
    "\n",
    "    2. 'w' : Writing mode. This mode is used to write to a file. If the file already exists, its        contents are truncated before writing. If the file does not exist, a new file is created.        If you are going to write a new content to the file, it's recommended to use 'w' mode.\n",
    "\n",
    "    3. 'a' : Appending mode. This mode is used to append new content to the end of an existing          file. If the file does not exist, a new file is created. It's useful when you want to add        new information to the file without erasing the existing information.\n",
    "\n",
    "    There are other modes like 'x' for creating and opening the file exclusively, 'b' for binary     mode, 't' for text mode, and '+' for updating (reading and writing) mode. These can be           combined with the above-listed mode arguments to create more specific modes.\n",
    "\n",
    "\n",
    "\n"
   ]
  },
  {
   "cell_type": "raw",
   "id": "4db5dc46",
   "metadata": {},
   "source": [
    "Q.7. What happens if an existing file is opened in write mode?\n",
    "\n",
    "Ans: If an existing file is opened in write mode ('w'), the contents of the file are truncated,        which means that any existing data in the file is deleted, and the file is left empty. The        file pointer is placed at the beginning of the file, so any new data written to the file          will be added to the beginning of the file, effectively overwriting the existing data.\n",
    "\n",
    "    If the file is opened in append mode ('a'), the file pointer is positioned at the end of the     file, and any new data written to the file is added to the end of the existing data, the         previous data will not be deleted or truncated.\n",
    "\n",
    "    It's important to be aware of the mode when opening a file, as truncating an existing file       can lead to data loss. It's a good practice to first read the file and make a backup before       opening the file in write mode."
   ]
  },
  {
   "cell_type": "raw",
   "id": "3d49a98b",
   "metadata": {},
   "source": [
    "Q.8. How do you tell the difference between read() and readlines()?\n",
    "\n",
    "Ans: 'read()' is used to read the entire contents of a file as a single string. It takes an            optional argument, which is the number of bytes to be read. If no argument is provided, it        reads the entire contents of the file.\n",
    "\n",
    "     'readlines()' is used to read the contents of a file as a list of strings, with each element      of the list representing a line of the file. It takes an optional argument, which is the          number of lines to be read. If no argument is provided, it reads all the lines of the file."
   ]
  },
  {
   "cell_type": "raw",
   "id": "d0af53dd",
   "metadata": {},
   "source": [
    "Q.9. What data structure does a shelf value resemble?\n",
    "\n",
    "Ans: A shelf value resembles a key-value pair data structure. It is used to store a value              associated with a key, which can be used to retrieve the value later. This is similar to a        dictionary "
   ]
  },
  {
   "cell_type": "code",
   "execution_count": null,
   "id": "18345259",
   "metadata": {},
   "outputs": [],
   "source": []
  }
 ],
 "metadata": {
  "kernelspec": {
   "display_name": "Python 3 (ipykernel)",
   "language": "python",
   "name": "python3"
  },
  "language_info": {
   "codemirror_mode": {
    "name": "ipython",
    "version": 3
   },
   "file_extension": ".py",
   "mimetype": "text/x-python",
   "name": "python",
   "nbconvert_exporter": "python",
   "pygments_lexer": "ipython3",
   "version": "3.9.12"
  }
 },
 "nbformat": 4,
 "nbformat_minor": 5
}
